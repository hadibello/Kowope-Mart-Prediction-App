{
 "cells": [
  {
   "cell_type": "code",
   "execution_count": null,
   "metadata": {
    "_cell_guid": "b1076dfc-b9ad-4769-8c92-a6c4dae69d19",
    "_uuid": "8f2839f25d086af736a60e9eeb907d3b93b6e0e5",
    "id": "9qKsYhZXMYo2"
   },
   "outputs": [],
   "source": [
    "import numpy as np\n",
    "import pandas as pd \n",
    "\n",
    "#Machine learning/Modelling Library\n",
    "import lightgbm as lgb \n",
    "from catboost import CatBoostClassifier\n",
    "import xgboost as xgb\n",
    "\n",
    "#For splitting\n",
    "from sklearn.model_selection import KFold,StratifiedKFold, train_test_split \n",
    "# for encoding categorical variables\n",
    "\n",
    "from sklearn.preprocessing import LabelEncoder,OneHotEncoder\n",
    "#To ignore unnecessary warnings\n",
    "\n",
    "import warnings\n",
    "warnings.filterwarnings('ignore') \n",
    "\n",
    "%matplotlib inline"
   ]
  },
  {
   "cell_type": "code",
   "execution_count": null,
   "metadata": {
    "_cell_guid": "79c7e3d0-c299-4dcb-8224-4455121ee9b0",
    "_uuid": "d629ff2d2480ee46fbb7e2d37f6b5fab8052498a",
    "id": "vcSdv-WjMYpM"
   },
   "outputs": [],
   "source": [
    "#import dataset\n",
    "train  = pd.read_csv(\"train.csv\")\n",
    "test  = pd.read_csv(\"test.csv\")"
   ]
  },
  {
   "cell_type": "code",
   "execution_count": null,
   "metadata": {
    "colab": {
     "base_uri": "https://localhost:8080/",
     "height": 224
    },
    "id": "pPiv84XhMYpV",
    "outputId": "87d7665f-d1ff-4183-f305-87eb90f0c540"
   },
   "outputs": [],
   "source": [
    "train.head()"
   ]
  },
  {
   "cell_type": "code",
   "execution_count": null,
   "metadata": {
    "colab": {
     "base_uri": "https://localhost:8080/",
     "height": 1000
    },
    "id": "AKB4dL7aMYpi",
    "outputId": "c933edac-0b88-461e-d361-999429b156f0"
   },
   "outputs": [],
   "source": [
    "train.info()"
   ]
  },
  {
   "cell_type": "code",
   "execution_count": null,
   "metadata": {
    "colab": {
     "base_uri": "https://localhost:8080/",
     "height": 255
    },
    "id": "BiR9Zr4iMYpt",
    "outputId": "a390f9c4-e8d1-4b57-8837-d1f8fbc57f92"
   },
   "outputs": [],
   "source": [
    "#Check for columns in train set\n",
    "train.columns"
   ]
  },
  {
   "cell_type": "code",
   "execution_count": null,
   "metadata": {
    "colab": {
     "base_uri": "https://localhost:8080/",
     "height": 148
    },
    "id": "O33sm6OzMYp1",
    "outputId": "29ed2c3c-5a1e-48d3-ba35-53119ea619df"
   },
   "outputs": [],
   "source": [
    "#Print the shape of the train set\n",
    "print('The Size of the test set is:',test.shape)\n",
    "#Read the train set\n",
    "test.head(2)"
   ]
  },
  {
   "cell_type": "code",
   "execution_count": null,
   "metadata": {
    "id": "APkIuZPsov1v"
   },
   "outputs": [],
   "source": [
    "train.fillna(-999, inplace=True)\n",
    "test.fillna(-999, inplace=True)"
   ]
  },
  {
   "cell_type": "code",
   "execution_count": null,
   "metadata": {
    "id": "MJE_H2gSowve"
   },
   "outputs": [],
   "source": [
    "cat_features = ['form_field47','default_status']\n",
    "encoder = LabelEncoder()\n",
    "encoded = train[cat_features].apply(encoder.fit_transform)"
   ]
  },
  {
   "cell_type": "code",
   "execution_count": null,
   "metadata": {
    "id": "nOAB9EVPo0x1"
   },
   "outputs": [],
   "source": [
    "train = train[['Applicant_ID', 'form_field1', 'form_field2', 'form_field3',\n",
    "       'form_field4', 'form_field5', 'form_field6', 'form_field7',\n",
    "       'form_field8', 'form_field9', 'form_field10', 'form_field11',\n",
    "       'form_field12', 'form_field13', 'form_field14', 'form_field15',\n",
    "       'form_field16', 'form_field17', 'form_field18', 'form_field19',\n",
    "       'form_field20', 'form_field21', 'form_field22', 'form_field23',\n",
    "       'form_field24', 'form_field25', 'form_field26', 'form_field27',\n",
    "       'form_field28', 'form_field29', 'form_field30', 'form_field31',\n",
    "       'form_field32', 'form_field33', 'form_field34', 'form_field35',\n",
    "       'form_field36', 'form_field37', 'form_field38', 'form_field39',\n",
    "       'form_field40', 'form_field41', 'form_field42', 'form_field43',\n",
    "       'form_field44', 'form_field45', 'form_field46', \n",
    "       'form_field48', 'form_field49', 'form_field50']].join(encoded)\n",
    "train.head()"
   ]
  },
  {
   "cell_type": "code",
   "execution_count": null,
   "metadata": {
    "id": "LSDC4Eqao5rE"
   },
   "outputs": [],
   "source": [
    "cat_features = ['form_field47']\n",
    "encoder = LabelEncoder()\n",
    "\n",
    "encoded = test[cat_features].apply(encoder.fit_transform)"
   ]
  },
  {
   "cell_type": "code",
   "execution_count": null,
   "metadata": {
    "id": "MoBQpbT9o970"
   },
   "outputs": [],
   "source": [
    "test = test[['Applicant_ID', 'form_field1', 'form_field2', 'form_field3',\n",
    "       'form_field4', 'form_field5', 'form_field6', 'form_field7',\n",
    "       'form_field8', 'form_field9', 'form_field10', 'form_field11',\n",
    "       'form_field12', 'form_field13', 'form_field14', 'form_field15',\n",
    "       'form_field16', 'form_field17', 'form_field18', 'form_field19',\n",
    "       'form_field20', 'form_field21', 'form_field22', 'form_field23',\n",
    "       'form_field24', 'form_field25', 'form_field26', 'form_field27',\n",
    "       'form_field28', 'form_field29', 'form_field30', 'form_field31',\n",
    "       'form_field32', 'form_field33', 'form_field34', 'form_field35',\n",
    "       'form_field36', 'form_field37', 'form_field38', 'form_field39',\n",
    "       'form_field40', 'form_field41', 'form_field42', 'form_field43',\n",
    "       'form_field44', 'form_field45', 'form_field46', \n",
    "       'form_field48', 'form_field49', 'form_field50']].join(encoded)\n",
    "test.head()"
   ]
  },
  {
   "cell_type": "code",
   "execution_count": null,
   "metadata": {
    "id": "SUtE2MQsMYrh"
   },
   "outputs": [],
   "source": [
    "def crossValPred(model):\n",
    "    avg = 0\n",
    "    test_scores = []\n",
    "    for fold, (tr, te) in enumerate(skfolds.split(X, y), 1):\n",
    "        train_x, test_x = X.iloc[tr], X.iloc[te]\n",
    "        train_y, test_y = y.iloc[tr], y.iloc[te]\n",
    "        \n",
    "        model.fit(train_x, train_y, eval_set=[(train_x, train_y), (test_x, test_y)], \n",
    "                  early_stopping_rounds=200, verbose=False)\n",
    "        \n",
    "        preds = model.predict_proba(test_x)[:, 1]\n",
    "        auc = roc_auc_score(test_y, preds)\n",
    "        print(f'Fold {fold}: Logloss: {auc}')\n",
    "        avg += auc\n",
    "        \n",
    "        \n",
    "        test_pred = model.predict_proba(test)[:,1]\n",
    "        test_scores.append(test_pred)\n",
    "    print(f'Avg Logloss: {avg/fold}')\n",
    "    return np.mean(test_scores, 0)"
   ]
  },
  {
   "cell_type": "code",
   "execution_count": null,
   "metadata": {
    "id": "8XRlI728MYr6"
   },
   "outputs": [],
   "source": [
    "skfolds= StratifiedKFold(n_splits=10, random_state=101, shuffle=True)"
   ]
  },
  {
   "cell_type": "code",
   "execution_count": null,
   "metadata": {
    "id": "qmsTY9HrMYsE"
   },
   "outputs": [],
   "source": [
    "#Defining X and Y variable\n",
    "X = train.drop([\"default_status\"], axis =1)\n",
    "y  = train.default_status"
   ]
  },
  {
   "cell_type": "code",
   "execution_count": null,
   "metadata": {
    "id": "2lcukWGaMYsL"
   },
   "outputs": [],
   "source": [
    "#Split into train and test set\n",
    "xtrainval, xtest, ytrainval, ytest = train_test_split(X, y, test_size=0.18, stratify=y)\n",
    "xtrain, xval, ytrain, yval = train_test_split(xtrainval, ytrainval, test_size=0.25, stratify=ytrainval)"
   ]
  },
  {
   "cell_type": "code",
   "execution_count": null,
   "metadata": {
    "colab": {
     "base_uri": "https://localhost:8080/",
     "height": 221
    },
    "id": "vNb7aoH7MYsm",
    "outputId": "ac408e5f-71e5-4fd1-f224-a1fbf1a97381"
   },
   "outputs": [],
   "source": [
    "#Creating model \n",
    "cat=CatBoostClassifier(n_estimators=5000, learning_rate = 0.041, eval_metric='AUC', random_seed=10, use_best_model=True)\n",
    "\n",
    "#Training Catboost Model on train set\n",
    "cat.fit(xtrain,ytrain,eval_set=[(xval,yval)], early_stopping_rounds=200, verbose=200)"
   ]
  },
  {
   "cell_type": "code",
   "execution_count": null,
   "metadata": {
    "colab": {
     "base_uri": "https://localhost:8080/",
     "height": 561
    },
    "id": "Jgwiloo8Od7s",
    "outputId": "f45e98a8-eb5f-4330-9526-85ce185cb15e"
   },
   "outputs": [],
   "source": [
    "#Creating model \n",
    "cat2=CatBoostClassifier(n_estimators=5000, max_depth=9, learning_rate = 0.01, eval_metric='AUC', reg_lambda = 370)\n",
    "\n",
    "\n",
    "#Training Catboost Model on train set\n",
    "cat2.fit(xtrain,ytrain,eval_set=[(xval,yval)], early_stopping_rounds=200, verbose=200)"
   ]
  },
  {
   "cell_type": "code",
   "execution_count": null,
   "metadata": {
    "colab": {
     "base_uri": "https://localhost:8080/",
     "height": 68
    },
    "id": "lEsSf0d8MYtH",
    "outputId": "7dfd63a2-699b-49ff-99e0-9f5601a2d681"
   },
   "outputs": [],
   "source": [
    "cat_pred2 = crossValPred(cat2)"
   ]
  },
  {
   "cell_type": "code",
   "execution_count": null,
   "metadata": {
    "id": "h0sv-WJIMYtv"
   },
   "outputs": [],
   "source": [
    "lgbm = lgb.LGBMClassifier(objective = 'binary',\n",
    "                       metric = 'auc',\n",
    "                       boosting_type = 'gbdt',\n",
    "                       feature_pre_filter = False,\n",
    "                       lambda_l1 = 0.0,\n",
    "                       lambda_l2 = 0.0,\n",
    "                       num_leaves = 5,\n",
    "                       feature_fraction = 0.6799999999999999,\n",
    "                       bagging_fraction = 0.9650890426025689,\n",
    "                       bagging_freq = 1,mini_child_samples =20)"
   ]
  },
  {
   "cell_type": "code",
   "execution_count": null,
   "metadata": {
    "colab": {
     "base_uri": "https://localhost:8080/",
     "height": 238
    },
    "id": "PmSZAqMpMYt4",
    "outputId": "04f177b1-5327-445a-a630-817b6745448b"
   },
   "outputs": [],
   "source": [
    "lgbm.fit(xtrain, ytrain, eval_set=[(xtrain, ytrain), (xval,yval)], verbose=200, early_stopping_rounds=200)"
   ]
  },
  {
   "cell_type": "code",
   "execution_count": null,
   "metadata": {
    "colab": {
     "base_uri": "https://localhost:8080/",
     "height": 204
    },
    "id": "ZPTu0CIeMYu4",
    "outputId": "5b003b6b-09b0-4f72-86c6-c2aaf744273b"
   },
   "outputs": [],
   "source": [
    "lgb_pred = crossValPred(lgbm)"
   ]
  },
  {
   "cell_type": "code",
   "execution_count": null,
   "metadata": {
    "id": "yxiXWrKQPv9d"
   },
   "outputs": [],
   "source": [
    "lgbm2 = lgb.LGBMClassifier(objective = 'binary',\n",
    "                       metric = 'auc',\n",
    "                       boosting_type = 'gbdt',\n",
    "                       feature_pre_filter = False,\n",
    "                       lambda_l1 = 0.0,\n",
    "                       lambda_l2 = 0.0,\n",
    "                       num_leaves = 5,\n",
    "                       feature_fraction = 0.6799999999999999,\n",
    "                       bagging_fraction = 0.9650890426025689,\n",
    "                       bagging_freq = 1,\n",
    "                       min_child_samples = 20)"
   ]
  },
  {
   "cell_type": "code",
   "execution_count": null,
   "metadata": {
    "id": "kOMtbG_sQJgW"
   },
   "outputs": [],
   "source": [
    "lgbm2.fit(xtrain, ytrain, eval_set=[(xtrain, ytrain), (xval,yval)], verbose=200, early_stopping_rounds=200)"
   ]
  },
  {
   "cell_type": "code",
   "execution_count": null,
   "metadata": {
    "id": "1jXb0L7-QR77"
   },
   "outputs": [],
   "source": [
    "lgb_pred2 = crossValPred(lgbm2)"
   ]
  },
  {
   "cell_type": "code",
   "execution_count": null,
   "metadata": {
    "id": "AXtPpC5AO1D4"
   },
   "outputs": [],
   "source": [
    "xgb = xgb.XGBClassifier(learning_rate=0.01,subsample=0.7,colsample_bytree=0.8,reg_alpha=7,n_estimators=5000,max_depth= 5,random_state=34)"
   ]
  },
  {
   "cell_type": "code",
   "execution_count": null,
   "metadata": {
    "colab": {
     "base_uri": "https://localhost:8080/",
     "height": 340
    },
    "id": "T8NWGaVoO14-",
    "outputId": "1e0bbf00-76d6-4b0e-80b8-de2c27abde8c"
   },
   "outputs": [],
   "source": [
    "xgb.fit(xtrain, ytrain, eval_set=[(xtrain, ytrain), (xval,yval)], verbose=200, early_stopping_rounds=200)"
   ]
  },
  {
   "cell_type": "code",
   "execution_count": null,
   "metadata": {
    "colab": {
     "base_uri": "https://localhost:8080/",
     "height": 204
    },
    "id": "2EzChEqyO-M_",
    "outputId": "3719f9d9-74fa-4648-b0ee-2d495a6c9448"
   },
   "outputs": [],
   "source": [
    "xgb_pred = crossValPred(xgb)"
   ]
  },
  {
   "cell_type": "code",
   "execution_count": null,
   "metadata": {
    "id": "nE7VPoZWVi_D"
   },
   "outputs": [],
   "source": [
    "sample = pd.read_csv('SampleSubmission.csv')"
   ]
  },
  {
   "cell_type": "code",
   "execution_count": null,
   "metadata": {
    "id": "NB7AbeOuQ51V"
   },
   "outputs": [],
   "source": [
    "reblend = ((xgb_pred*0.33) + (cat_pred*0.67))*0.95 + (lgb_pred*0.05)"
   ]
  },
  {
   "cell_type": "code",
   "execution_count": null,
   "metadata": {
    "id": "EHojcsqDUGxJ"
   },
   "outputs": [],
   "source": [
    "reblend = sample.copy()"
   ]
  },
  {
   "cell_type": "code",
   "execution_count": null,
   "metadata": {
    "id": "CLTkPuVqckSr"
   },
   "outputs": [],
   "source": [
    "reblend.to_csv('XGB_CAT111.csv', index = False)"
   ]
  },
  {
   "cell_type": "code",
   "execution_count": null,
   "metadata": {
    "id": "ADfKaSa-pMqy"
   },
   "outputs": [],
   "source": [
    "blend = (3 * lgb_pred * cat_pred * xgb_pred)/5"
   ]
  },
  {
   "cell_type": "code",
   "execution_count": null,
   "metadata": {
    "id": "RsulNDSic8kS"
   },
   "outputs": [],
   "source": [
    "a = pd.read_csv('a.csv')\n",
    "b = pd.read_csv('b.csv')\n",
    "c = pd.read_csv('c.csv')"
   ]
  },
  {
   "cell_type": "code",
   "execution_count": null,
   "metadata": {
    "id": "y4NWVR9Qesdt"
   },
   "outputs": [],
   "source": [
    "a.default_status= ((a.default_status*0.33) + (b.default_status*0.67))*0.95 + (c.default_status*0.05)"
   ]
  },
  {
   "cell_type": "code",
   "execution_count": null,
   "metadata": {
    "colab": {
     "base_uri": "https://localhost:8080/",
     "height": 204
    },
    "id": "T5FGjaBZfKZ9",
    "outputId": "c0d9a131-f4fb-4a02-b035-b389bbef0845"
   },
   "outputs": [],
   "source": [
    "a.head()"
   ]
  },
  {
   "cell_type": "code",
   "execution_count": null,
   "metadata": {
    "id": "6tHhOJKYfBXC"
   },
   "outputs": [],
   "source": [
    "a.to_csv('bled6.csv', index = False)"
   ]
  }
 ],
 "metadata": {
  "colab": {
   "collapsed_sections": [],
   "name": "dsn2020_israelkingz.ipynb",
   "provenance": []
  },
  "kernelspec": {
   "display_name": "Python 3",
   "language": "python",
   "name": "python3"
  },
  "language_info": {
   "codemirror_mode": {
    "name": "ipython",
    "version": 3
   },
   "file_extension": ".py",
   "mimetype": "text/x-python",
   "name": "python",
   "nbconvert_exporter": "python",
   "pygments_lexer": "ipython3",
   "version": "3.6.5"
  }
 },
 "nbformat": 4,
 "nbformat_minor": 1
}
