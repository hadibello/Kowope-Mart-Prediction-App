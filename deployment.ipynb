{
 "cells": [
  {
   "cell_type": "code",
   "execution_count": 1,
   "metadata": {},
   "outputs": [
    {
     "name": "stderr",
     "output_type": "stream",
     "text": [
      "C:\\Users\\hp\\AppData\\Local\\Continuum\\anaconda3\\lib\\site-packages\\sklearn\\utils\\deprecation.py:143: FutureWarning: The sklearn.feature_selection.variance_threshold module is  deprecated in version 0.22 and will be removed in version 0.24. The corresponding classes / functions should instead be imported from sklearn.feature_selection. Anything that cannot be imported from sklearn.feature_selection is now part of the private API.\n",
      "  warnings.warn(message, FutureWarning)\n"
     ]
    }
   ],
   "source": [
    "from numpy import sort\n",
    "import pandas as pd\n",
    "import numpy as np\n",
    "import math\n",
    "import matplotlib.pyplot as plt\n",
    "import seaborn as sns\n",
    "%matplotlib inline\n",
    "\n",
    "from sklearn.model_selection import train_test_split\n",
    "from sklearn.feature_selection import VarianceThreshold,SelectFromModel,variance_threshold\n",
    "\n",
    "from sklearn.preprocessing import StandardScaler,MinMaxScaler,LabelEncoder\n",
    "from sklearn.linear_model import LogisticRegression\n",
    "\n",
    "from sklearn.ensemble import GradientBoostingClassifier\n",
    "from sklearn import metrics\n",
    "from sklearn.metrics import roc_auc_score,f1_score ,accuracy_score\n",
    "\n",
    "import joblib\n",
    "\n",
    "import warnings \n",
    "warnings.filterwarnings('ignore')"
   ]
  },
  {
   "cell_type": "code",
   "execution_count": 2,
   "metadata": {},
   "outputs": [],
   "source": [
    "#import dataset\n",
    "train  = pd.read_csv(\"cleaned_train_01_original.csv\")\n",
    "test  = pd.read_csv(\"cleaned_test_01_original.csv\")"
   ]
  },
  {
   "cell_type": "code",
   "execution_count": 30,
   "metadata": {},
   "outputs": [
    {
     "data": {
      "text/html": [
       "<div>\n",
       "<style scoped>\n",
       "    .dataframe tbody tr th:only-of-type {\n",
       "        vertical-align: middle;\n",
       "    }\n",
       "\n",
       "    .dataframe tbody tr th {\n",
       "        vertical-align: top;\n",
       "    }\n",
       "\n",
       "    .dataframe thead th {\n",
       "        text-align: right;\n",
       "    }\n",
       "</style>\n",
       "<table border=\"1\" class=\"dataframe\">\n",
       "  <thead>\n",
       "    <tr style=\"text-align: right;\">\n",
       "      <th></th>\n",
       "      <th>form_field1</th>\n",
       "      <th>form_field2</th>\n",
       "      <th>form_field3</th>\n",
       "      <th>form_field4</th>\n",
       "      <th>form_field5</th>\n",
       "      <th>form_field6</th>\n",
       "      <th>form_field7</th>\n",
       "      <th>form_field8</th>\n",
       "      <th>form_field9</th>\n",
       "      <th>form_field10</th>\n",
       "      <th>...</th>\n",
       "      <th>form_field42</th>\n",
       "      <th>form_field43</th>\n",
       "      <th>form_field44</th>\n",
       "      <th>form_field45</th>\n",
       "      <th>form_field46</th>\n",
       "      <th>form_field47</th>\n",
       "      <th>form_field48</th>\n",
       "      <th>form_field49</th>\n",
       "      <th>form_field50</th>\n",
       "      <th>target</th>\n",
       "    </tr>\n",
       "  </thead>\n",
       "  <tbody>\n",
       "    <tr>\n",
       "      <td>0</td>\n",
       "      <td>3436</td>\n",
       "      <td>0.28505</td>\n",
       "      <td>1.6560</td>\n",
       "      <td>0.0</td>\n",
       "      <td>0.000</td>\n",
       "      <td>0</td>\n",
       "      <td>10689720</td>\n",
       "      <td>252072</td>\n",
       "      <td>4272776</td>\n",
       "      <td>11333126</td>\n",
       "      <td>...</td>\n",
       "      <td>0.392854</td>\n",
       "      <td>2.02</td>\n",
       "      <td>0.711632</td>\n",
       "      <td>0</td>\n",
       "      <td>0</td>\n",
       "      <td>0</td>\n",
       "      <td>-999.000000</td>\n",
       "      <td>1.129518</td>\n",
       "      <td>0.044335</td>\n",
       "      <td>0</td>\n",
       "    </tr>\n",
       "    <tr>\n",
       "      <td>1</td>\n",
       "      <td>3456</td>\n",
       "      <td>0.67400</td>\n",
       "      <td>0.2342</td>\n",
       "      <td>0.0</td>\n",
       "      <td>0.000</td>\n",
       "      <td>0</td>\n",
       "      <td>898979</td>\n",
       "      <td>497531</td>\n",
       "      <td>9073814</td>\n",
       "      <td>2533168</td>\n",
       "      <td>...</td>\n",
       "      <td>0.314281</td>\n",
       "      <td>8.08</td>\n",
       "      <td>0.183584</td>\n",
       "      <td>-999</td>\n",
       "      <td>0</td>\n",
       "      <td>0</td>\n",
       "      <td>349.805730</td>\n",
       "      <td>1.620483</td>\n",
       "      <td>0.322436</td>\n",
       "      <td>0</td>\n",
       "    </tr>\n",
       "    <tr>\n",
       "      <td>2</td>\n",
       "      <td>3276</td>\n",
       "      <td>0.53845</td>\n",
       "      <td>3.1510</td>\n",
       "      <td>0.0</td>\n",
       "      <td>6.282</td>\n",
       "      <td>-999</td>\n",
       "      <td>956940</td>\n",
       "      <td>-999</td>\n",
       "      <td>192944</td>\n",
       "      <td>1079864</td>\n",
       "      <td>...</td>\n",
       "      <td>0.162965</td>\n",
       "      <td>18.18</td>\n",
       "      <td>0.791136</td>\n",
       "      <td>0</td>\n",
       "      <td>0</td>\n",
       "      <td>0</td>\n",
       "      <td>-999.000000</td>\n",
       "      <td>1.513370</td>\n",
       "      <td>0.011640</td>\n",
       "      <td>1</td>\n",
       "    </tr>\n",
       "    <tr>\n",
       "      <td>3</td>\n",
       "      <td>3372</td>\n",
       "      <td>0.17005</td>\n",
       "      <td>0.5050</td>\n",
       "      <td>0.0</td>\n",
       "      <td>0.000</td>\n",
       "      <td>192166</td>\n",
       "      <td>3044703</td>\n",
       "      <td>385499</td>\n",
       "      <td>3986472</td>\n",
       "      <td>3621979</td>\n",
       "      <td>...</td>\n",
       "      <td>0.488884</td>\n",
       "      <td>2.02</td>\n",
       "      <td>0.685168</td>\n",
       "      <td>-999</td>\n",
       "      <td>0</td>\n",
       "      <td>0</td>\n",
       "      <td>89.940100</td>\n",
       "      <td>0.664452</td>\n",
       "      <td>0.082729</td>\n",
       "      <td>0</td>\n",
       "    </tr>\n",
       "    <tr>\n",
       "      <td>4</td>\n",
       "      <td>3370</td>\n",
       "      <td>0.77270</td>\n",
       "      <td>1.1010</td>\n",
       "      <td>0.0</td>\n",
       "      <td>0.000</td>\n",
       "      <td>1556</td>\n",
       "      <td>214728</td>\n",
       "      <td>214728</td>\n",
       "      <td>1284089</td>\n",
       "      <td>361770</td>\n",
       "      <td>...</td>\n",
       "      <td>0.275000</td>\n",
       "      <td>12.12</td>\n",
       "      <td>0.438168</td>\n",
       "      <td>0</td>\n",
       "      <td>0</td>\n",
       "      <td>0</td>\n",
       "      <td>97.887502</td>\n",
       "      <td>1.427891</td>\n",
       "      <td>0.045630</td>\n",
       "      <td>0</td>\n",
       "    </tr>\n",
       "  </tbody>\n",
       "</table>\n",
       "<p>5 rows × 51 columns</p>\n",
       "</div>"
      ],
      "text/plain": [
       "   form_field1  form_field2  form_field3  form_field4  form_field5  \\\n",
       "0         3436      0.28505       1.6560          0.0        0.000   \n",
       "1         3456      0.67400       0.2342          0.0        0.000   \n",
       "2         3276      0.53845       3.1510          0.0        6.282   \n",
       "3         3372      0.17005       0.5050          0.0        0.000   \n",
       "4         3370      0.77270       1.1010          0.0        0.000   \n",
       "\n",
       "   form_field6  form_field7  form_field8  form_field9  form_field10  ...  \\\n",
       "0            0     10689720       252072      4272776      11333126  ...   \n",
       "1            0       898979       497531      9073814       2533168  ...   \n",
       "2         -999       956940         -999       192944       1079864  ...   \n",
       "3       192166      3044703       385499      3986472       3621979  ...   \n",
       "4         1556       214728       214728      1284089        361770  ...   \n",
       "\n",
       "   form_field42  form_field43  form_field44  form_field45  form_field46  \\\n",
       "0      0.392854          2.02      0.711632             0             0   \n",
       "1      0.314281          8.08      0.183584          -999             0   \n",
       "2      0.162965         18.18      0.791136             0             0   \n",
       "3      0.488884          2.02      0.685168          -999             0   \n",
       "4      0.275000         12.12      0.438168             0             0   \n",
       "\n",
       "   form_field47  form_field48  form_field49  form_field50  target  \n",
       "0             0   -999.000000      1.129518      0.044335       0  \n",
       "1             0    349.805730      1.620483      0.322436       0  \n",
       "2             0   -999.000000      1.513370      0.011640       1  \n",
       "3             0     89.940100      0.664452      0.082729       0  \n",
       "4             0     97.887502      1.427891      0.045630       0  \n",
       "\n",
       "[5 rows x 51 columns]"
      ]
     },
     "execution_count": 30,
     "metadata": {},
     "output_type": "execute_result"
    }
   ],
   "source": [
    "train.head()"
   ]
  },
  {
   "cell_type": "code",
   "execution_count": 37,
   "metadata": {},
   "outputs": [
    {
     "data": {
      "text/plain": [
       "array([3436, 3456, 3276, 3372, 3370, 3724, 3350, 3416, 3376, 3310, 3488,\n",
       "       3536, 3732, 3168, 3256, 3688, 3348, 3504, 3460, 3484, 3316, 3506,\n",
       "       3148, 3334, 3312, 3430, 3498, 3698, 3284, 3264, 3494, 3286, 3338,\n",
       "       3452, 3626, 3408, 3706, 3614, 3646, 3410, 3500, 3540, 3552, 3462,\n",
       "       3214, 3492, 3656, 3394, 3382, 3544, 3472, 3422, 3192, 3722, -999,\n",
       "       3658, 3380, 3290, 3600, 3358, 3314, 3166, 3268, 3726, 3516, 3386,\n",
       "       3450, 3742, 3502, 3568, 3448, 3340, 3364, 3594, 3686, 3374, 3692,\n",
       "       3126, 3554, 3862, 3434, 3684, 3106, 3588, 3520, 3550, 3332, 3630,\n",
       "       3178, 3308, 3454, 3288, 3274, 3162, 3360, 3482, 3788, 3744, 3764,\n",
       "       3704, 3280, 3534, 3856, 3818, 3632, 3900, 3362, 3720, 3890, 3478,\n",
       "       3420, 3548, 3716, 3368, 3532, 3762, 3560, 3590, 3644, 3784, 3836,\n",
       "       3870, 3710, 3466, 3412, 3258, 3278, 3470, 3750, 3566, 3404, 3240,\n",
       "       3622, 3216, 3576, 3652, 3428, 3270, 3176, 3794, 3262, 3468, 3326,\n",
       "       3272, 3406, 3432, 3648, 3384, 3442, 3592, 3636, 3302, 3674, 3578,\n",
       "       3194, 3572, 3400, 3296, 3266, 3476, 3200, 3612, 3140, 3868, 3810,\n",
       "       3490, 3446, 3356, 3522, 3254, 3464, 3812, 3696, 3354, 3352, 3392,\n",
       "       3680, 3238, 3676, 3564, 3562, 3210, 3642, 3654, 3546, 3772, 3876,\n",
       "       3668, 3700, 3844, 3530, 3804, 3662, 3708, 3898, 3854, 3610, 3524,\n",
       "       3878, 3628, 3228, 3322, 3222, 3158, 3712, 3378, 3206, 3250, 3486,\n",
       "       3538, 3736, 3188, 3518, 3388, 3528, 3570, 3336, 3894, 3650, 3342,\n",
       "       3842, 3458, 3344, 3108, 3390, 3142, 3328, 3150, 3398, 3730, 3624,\n",
       "       3304, 3606, 3596, 3860, 3760, 3826, 3792, 3440, 3734, 3542, 3664,\n",
       "       3514, 3474, 3402, 3204, 3330, 3678, 3230, 3292, 3426, 3234, 3852,\n",
       "       3816, 3864, 3414, 3220, 3620, 3110, 3438, 3248, 3444, 3598, 3586,\n",
       "       3758, 3776, 3508, 3766, 3806, 3778, 3886, 3800, 3768, 3796, 3666,\n",
       "       3828, 3608, 3496, 3510, 3298, 3260, 3580, 3198, 3282, 3480, 3236,\n",
       "       3212, 3702, 3882, 3170, 3846, 3574, 3718, 3808, 3694, 3366, 3424,\n",
       "       3346, 3182, 3226, 3526, 3144, 3848, 3770, 3418, 3164, 3078, 3218,\n",
       "       3838, 3672, 3640, 3786, 3244, 3190, 3832, 3660, 3584, 3512, 3604,\n",
       "       3252, 3092, 3306, 3738, 3616, 3728, 3556, 3232, 3782, 3840, 3822,\n",
       "       3396, 3028, 3774, 3752, 3300, 3224, 3582, 3320, 3634, 3802, 3618,\n",
       "       3242, 3558, 3294, 3602, 3122, 3146, 3670, 3830, 3246, 3138, 3118,\n",
       "       3638, 3202, 3820, 3756, 3324, 3116, 3208, 3858, 3156, 3102, 3790,\n",
       "       3740, 3132, 3136, 3318, 3180, 3834, 3134, 3120, 3850, 3130, 3874,\n",
       "       3100, 3196, 3160, 3184, 3780, 3754, 3682, 3824, 3798, 3104, 3172,\n",
       "       3052, 3746, 3154, 3690, 3888, 3066, 3124, 3128, 3174, 3896, 3114,\n",
       "       3814, 3090, 3872, 3094, 3880, 3866, 3714, 3044, 3152, 3088, 3072,\n",
       "       3884, 3060, 3068, 3748, 2998, 3074, 3048, 3070, 3076, 3034, 3892,\n",
       "       3112, 3186, 3080, 3086, 3096, 3084, 3098, 3062, 3012, 3082, 3036,\n",
       "       3040, 3056, 3042, 3050, 2994, 3026, 3010, 2990, 3038, 3004, 3064,\n",
       "       3024, 3054, 3058, 3032, 3030, 3000, 3008, 3016, 3046, 3020],\n",
       "      dtype=int64)"
      ]
     },
     "execution_count": 37,
     "metadata": {},
     "output_type": "execute_result"
    }
   ],
   "source": [
    "train['form_field1'].unique()"
   ]
  },
  {
   "cell_type": "code",
   "execution_count": 40,
   "metadata": {},
   "outputs": [],
   "source": [
    "#Defining X and Y variable\n",
    "X = train[['form_field47', 'form_field2','form_field1']]\n",
    "y  = train.target"
   ]
  },
  {
   "cell_type": "code",
   "execution_count": 41,
   "metadata": {},
   "outputs": [],
   "source": [
    "X_train, X_test, y_train, y_test = train_test_split(X, y, test_size=0.33, random_state=42)"
   ]
  },
  {
   "cell_type": "code",
   "execution_count": 42,
   "metadata": {},
   "outputs": [],
   "source": [
    "seed = 42"
   ]
  },
  {
   "cell_type": "code",
   "execution_count": 43,
   "metadata": {},
   "outputs": [],
   "source": [
    "gradientboost = GradientBoostingClassifier(n_estimators= 300,learning_rate=0.1,random_state=42)"
   ]
  },
  {
   "cell_type": "code",
   "execution_count": 44,
   "metadata": {},
   "outputs": [
    {
     "name": "stdout",
     "output_type": "stream",
     "text": [
      "Train set imputation\n",
      "gradientboost roc-auc: 0.821537064327809\n",
      "gradientboost accuracy: 0.8000533049040511\n",
      "Test set\n",
      "gradientboostroc_auc: 0.8012873776052796\n",
      "gradientboost accuracy: 0.7857683982683983\n",
      "\n"
     ]
    }
   ],
   "source": [
    "gradientboost.fit(X_train,y_train)\n",
    "print('Train set imputation')\n",
    "pred = gradientboost.predict_proba(X_train)\n",
    "print('gradientboost roc-auc: {}'.format(roc_auc_score(y_train,pred[:,1])))\n",
    "pred = gradientboost.predict(X_train)\n",
    "print('gradientboost accuracy: {}'.format(accuracy_score(y_train,pred)))\n",
    "print('Test set')\n",
    "pred = gradientboost.predict_proba(X_test)\n",
    "print('gradientboostroc_auc: {}'.format(roc_auc_score(y_test,pred[:,1])))\n",
    "pred = gradientboost.predict(X_test)\n",
    "print('gradientboost accuracy: {}'.format(accuracy_score(y_test,pred)))\n",
    "print()"
   ]
  },
  {
   "cell_type": "code",
   "execution_count": 45,
   "metadata": {},
   "outputs": [
    {
     "name": "stdout",
     "output_type": "stream",
     "text": [
      "saved pipeline\n"
     ]
    }
   ],
   "source": [
    "save_file_name = 'classification2.pkl'\n",
    "joblib.dump(gradientboost, save_file_name)\n",
    "print('saved pipeline')"
   ]
  },
  {
   "cell_type": "code",
   "execution_count": 46,
   "metadata": {},
   "outputs": [],
   "source": [
    "classifier = joblib.load('classification2.pkl')"
   ]
  },
  {
   "cell_type": "code",
   "execution_count": 48,
   "metadata": {},
   "outputs": [],
   "source": [
    "pred = classifier.predict(X_test)"
   ]
  },
  {
   "cell_type": "code",
   "execution_count": 49,
   "metadata": {},
   "outputs": [
    {
     "data": {
      "text/plain": [
       "(18480,)"
      ]
     },
     "execution_count": 49,
     "metadata": {},
     "output_type": "execute_result"
    }
   ],
   "source": [
    "pred.shape"
   ]
  },
  {
   "cell_type": "code",
   "execution_count": 50,
   "metadata": {},
   "outputs": [
    {
     "data": {
      "text/plain": [
       "2458"
      ]
     },
     "execution_count": 50,
     "metadata": {},
     "output_type": "execute_result"
    }
   ],
   "source": [
    "list(pred).count(1)"
   ]
  },
  {
   "cell_type": "code",
   "execution_count": 51,
   "metadata": {},
   "outputs": [
    {
     "data": {
      "text/plain": [
       "16022"
      ]
     },
     "execution_count": 51,
     "metadata": {},
     "output_type": "execute_result"
    }
   ],
   "source": [
    "list(pred).count(0)"
   ]
  },
  {
   "cell_type": "code",
   "execution_count": null,
   "metadata": {},
   "outputs": [],
   "source": []
  }
 ],
 "metadata": {
  "kernelspec": {
   "display_name": "Python 3",
   "language": "python",
   "name": "python3"
  },
  "language_info": {
   "codemirror_mode": {
    "name": "ipython",
    "version": 3
   },
   "file_extension": ".py",
   "mimetype": "text/x-python",
   "name": "python",
   "nbconvert_exporter": "python",
   "pygments_lexer": "ipython3",
   "version": "3.6.5"
  }
 },
 "nbformat": 4,
 "nbformat_minor": 2
}
